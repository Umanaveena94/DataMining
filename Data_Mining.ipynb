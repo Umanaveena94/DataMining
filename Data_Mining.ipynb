{
 "cells": [
  {
   "cell_type": "code",
   "execution_count": 78,
   "metadata": {},
   "outputs": [],
   "source": [
    "import numpy as np\n",
    "import pandas as pd\n",
    "from pandas_profiling import ProfileReport"
   ]
  },
  {
   "cell_type": "code",
   "execution_count": 5,
   "metadata": {},
   "outputs": [],
   "source": [
    "red_wine=pd.read_csv('red_wine.csv')"
   ]
  },
  {
   "cell_type": "code",
   "execution_count": 7,
   "metadata": {},
   "outputs": [
    {
     "data": {
      "text/html": [
       "<div>\n",
       "<style scoped>\n",
       "    .dataframe tbody tr th:only-of-type {\n",
       "        vertical-align: middle;\n",
       "    }\n",
       "\n",
       "    .dataframe tbody tr th {\n",
       "        vertical-align: top;\n",
       "    }\n",
       "\n",
       "    .dataframe thead th {\n",
       "        text-align: right;\n",
       "    }\n",
       "</style>\n",
       "<table border=\"1\" class=\"dataframe\">\n",
       "  <thead>\n",
       "    <tr style=\"text-align: right;\">\n",
       "      <th></th>\n",
       "      <th>citric acid</th>\n",
       "      <th>sulphates</th>\n",
       "      <th>alcohol</th>\n",
       "      <th>type</th>\n",
       "    </tr>\n",
       "  </thead>\n",
       "  <tbody>\n",
       "    <tr>\n",
       "      <th>0</th>\n",
       "      <td>0.49</td>\n",
       "      <td>0.63</td>\n",
       "      <td>8.0</td>\n",
       "      <td>low</td>\n",
       "    </tr>\n",
       "    <tr>\n",
       "      <th>1</th>\n",
       "      <td>0.66</td>\n",
       "      <td>0.57</td>\n",
       "      <td>8.3</td>\n",
       "      <td>low</td>\n",
       "    </tr>\n",
       "    <tr>\n",
       "      <th>2</th>\n",
       "      <td>0.23</td>\n",
       "      <td>0.44</td>\n",
       "      <td>8.5</td>\n",
       "      <td>high</td>\n",
       "    </tr>\n",
       "  </tbody>\n",
       "</table>\n",
       "</div>"
      ],
      "text/plain": [
       "   citric acid  sulphates  alcohol  type\n",
       "0         0.49       0.63      8.0   low\n",
       "1         0.66       0.57      8.3   low\n",
       "2         0.23       0.44      8.5  high"
      ]
     },
     "execution_count": 7,
     "metadata": {},
     "output_type": "execute_result"
    }
   ],
   "source": [
    "red_wine.head(3)"
   ]
  },
  {
   "cell_type": "code",
   "execution_count": 11,
   "metadata": {},
   "outputs": [
    {
     "data": {
      "text/html": [
       "<div>\n",
       "<style scoped>\n",
       "    .dataframe tbody tr th:only-of-type {\n",
       "        vertical-align: middle;\n",
       "    }\n",
       "\n",
       "    .dataframe tbody tr th {\n",
       "        vertical-align: top;\n",
       "    }\n",
       "\n",
       "    .dataframe thead th {\n",
       "        text-align: right;\n",
       "    }\n",
       "</style>\n",
       "<table border=\"1\" class=\"dataframe\">\n",
       "  <thead>\n",
       "    <tr style=\"text-align: right;\">\n",
       "      <th></th>\n",
       "      <th>citric acid</th>\n",
       "      <th>sulphates</th>\n",
       "      <th>alcohol</th>\n",
       "    </tr>\n",
       "  </thead>\n",
       "  <tbody>\n",
       "    <tr>\n",
       "      <th>count</th>\n",
       "      <td>571.000000</td>\n",
       "      <td>571.000000</td>\n",
       "      <td>571.000000</td>\n",
       "    </tr>\n",
       "    <tr>\n",
       "      <th>mean</th>\n",
       "      <td>0.324676</td>\n",
       "      <td>0.588161</td>\n",
       "      <td>10.776883</td>\n",
       "    </tr>\n",
       "    <tr>\n",
       "      <th>std</th>\n",
       "      <td>0.175103</td>\n",
       "      <td>0.188478</td>\n",
       "      <td>1.092562</td>\n",
       "    </tr>\n",
       "    <tr>\n",
       "      <th>min</th>\n",
       "      <td>0.000000</td>\n",
       "      <td>0.250000</td>\n",
       "      <td>8.000000</td>\n",
       "    </tr>\n",
       "    <tr>\n",
       "      <th>25%</th>\n",
       "      <td>0.240000</td>\n",
       "      <td>0.450000</td>\n",
       "      <td>9.900000</td>\n",
       "    </tr>\n",
       "    <tr>\n",
       "      <th>50%</th>\n",
       "      <td>0.330000</td>\n",
       "      <td>0.570000</td>\n",
       "      <td>10.800000</td>\n",
       "    </tr>\n",
       "    <tr>\n",
       "      <th>75%</th>\n",
       "      <td>0.440000</td>\n",
       "      <td>0.710000</td>\n",
       "      <td>11.600000</td>\n",
       "    </tr>\n",
       "    <tr>\n",
       "      <th>max</th>\n",
       "      <td>1.000000</td>\n",
       "      <td>2.000000</td>\n",
       "      <td>12.800000</td>\n",
       "    </tr>\n",
       "  </tbody>\n",
       "</table>\n",
       "</div>"
      ],
      "text/plain": [
       "       citric acid   sulphates     alcohol\n",
       "count   571.000000  571.000000  571.000000\n",
       "mean      0.324676    0.588161   10.776883\n",
       "std       0.175103    0.188478    1.092562\n",
       "min       0.000000    0.250000    8.000000\n",
       "25%       0.240000    0.450000    9.900000\n",
       "50%       0.330000    0.570000   10.800000\n",
       "75%       0.440000    0.710000   11.600000\n",
       "max       1.000000    2.000000   12.800000"
      ]
     },
     "execution_count": 11,
     "metadata": {},
     "output_type": "execute_result"
    }
   ],
   "source": [
    "red_wine.describe()"
   ]
  },
  {
   "cell_type": "markdown",
   "metadata": {},
   "source": [
    "# ML Models"
   ]
  },
  {
   "cell_type": "code",
   "execution_count": 49,
   "metadata": {},
   "outputs": [],
   "source": [
    "\n",
    "import pandas as pd\n",
    "import numpy as np\n",
    "from sklearn import preprocessing\n",
    "from sklearn.linear_model import LogisticRegression\n",
    "from sklearn.naive_bayes import GaussianNB\n",
    "from sklearn.tree import DecisionTreeClassifier\n",
    "from sklearn.svm import SVC\n",
    "from sklearn.ensemble import RandomForestClassifier\n",
    "from sklearn.metrics import confusion_matrix, f1_score, accuracy_score\n",
    "from sklearn.model_selection import train_test_split\n",
    "from sklearn.metrics import confusion_matrix\n",
    "from sklearn.metrics import classification_report\n",
    "from sklearn import metrics\n",
    "from sklearn.model_selection import KFold\n",
    "from sklearn.model_selection import cross_val_score"
   ]
  },
  {
   "cell_type": "code",
   "execution_count": 2,
   "metadata": {},
   "outputs": [],
   "source": [
    "red_wine=pd.read_csv('red_wine.csv')"
   ]
  },
  {
   "cell_type": "code",
   "execution_count": 3,
   "metadata": {},
   "outputs": [
    {
     "data": {
      "text/html": [
       "<div>\n",
       "<style scoped>\n",
       "    .dataframe tbody tr th:only-of-type {\n",
       "        vertical-align: middle;\n",
       "    }\n",
       "\n",
       "    .dataframe tbody tr th {\n",
       "        vertical-align: top;\n",
       "    }\n",
       "\n",
       "    .dataframe thead th {\n",
       "        text-align: right;\n",
       "    }\n",
       "</style>\n",
       "<table border=\"1\" class=\"dataframe\">\n",
       "  <thead>\n",
       "    <tr style=\"text-align: right;\">\n",
       "      <th></th>\n",
       "      <th>citric acid</th>\n",
       "      <th>sulphates</th>\n",
       "      <th>alcohol</th>\n",
       "      <th>type</th>\n",
       "    </tr>\n",
       "  </thead>\n",
       "  <tbody>\n",
       "    <tr>\n",
       "      <th>0</th>\n",
       "      <td>0.49</td>\n",
       "      <td>0.63</td>\n",
       "      <td>8.00</td>\n",
       "      <td>1</td>\n",
       "    </tr>\n",
       "    <tr>\n",
       "      <th>1</th>\n",
       "      <td>0.66</td>\n",
       "      <td>0.57</td>\n",
       "      <td>8.30</td>\n",
       "      <td>1</td>\n",
       "    </tr>\n",
       "    <tr>\n",
       "      <th>2</th>\n",
       "      <td>0.23</td>\n",
       "      <td>0.44</td>\n",
       "      <td>8.50</td>\n",
       "      <td>0</td>\n",
       "    </tr>\n",
       "    <tr>\n",
       "      <th>3</th>\n",
       "      <td>0.44</td>\n",
       "      <td>0.84</td>\n",
       "      <td>8.60</td>\n",
       "      <td>1</td>\n",
       "    </tr>\n",
       "    <tr>\n",
       "      <th>4</th>\n",
       "      <td>0.08</td>\n",
       "      <td>0.50</td>\n",
       "      <td>8.70</td>\n",
       "      <td>1</td>\n",
       "    </tr>\n",
       "    <tr>\n",
       "      <th>5</th>\n",
       "      <td>0.26</td>\n",
       "      <td>0.53</td>\n",
       "      <td>8.70</td>\n",
       "      <td>1</td>\n",
       "    </tr>\n",
       "    <tr>\n",
       "      <th>6</th>\n",
       "      <td>0.20</td>\n",
       "      <td>0.43</td>\n",
       "      <td>8.75</td>\n",
       "      <td>1</td>\n",
       "    </tr>\n",
       "    <tr>\n",
       "      <th>7</th>\n",
       "      <td>0.03</td>\n",
       "      <td>0.33</td>\n",
       "      <td>8.80</td>\n",
       "      <td>1</td>\n",
       "    </tr>\n",
       "    <tr>\n",
       "      <th>8</th>\n",
       "      <td>0.19</td>\n",
       "      <td>0.35</td>\n",
       "      <td>8.80</td>\n",
       "      <td>0</td>\n",
       "    </tr>\n",
       "    <tr>\n",
       "      <th>9</th>\n",
       "      <td>0.62</td>\n",
       "      <td>0.49</td>\n",
       "      <td>8.80</td>\n",
       "      <td>0</td>\n",
       "    </tr>\n",
       "  </tbody>\n",
       "</table>\n",
       "</div>"
      ],
      "text/plain": [
       "   citric acid  sulphates  alcohol  type\n",
       "0         0.49       0.63     8.00     1\n",
       "1         0.66       0.57     8.30     1\n",
       "2         0.23       0.44     8.50     0\n",
       "3         0.44       0.84     8.60     1\n",
       "4         0.08       0.50     8.70     1\n",
       "5         0.26       0.53     8.70     1\n",
       "6         0.20       0.43     8.75     1\n",
       "7         0.03       0.33     8.80     1\n",
       "8         0.19       0.35     8.80     0\n",
       "9         0.62       0.49     8.80     0"
      ]
     },
     "execution_count": 3,
     "metadata": {},
     "output_type": "execute_result"
    }
   ],
   "source": [
    "#one hot encoding\n",
    "label_encoder = preprocessing.LabelEncoder()\n",
    "\n",
    "red_wine['type']= label_encoder.fit_transform(red_wine['type']) \n",
    "\n",
    "red_wine.head(10)\n",
    "#low=1\n",
    "#high=0"
   ]
  },
  {
   "cell_type": "code",
   "execution_count": 4,
   "metadata": {},
   "outputs": [
    {
     "data": {
      "text/plain": [
       "array([1, 0])"
      ]
     },
     "execution_count": 4,
     "metadata": {},
     "output_type": "execute_result"
    }
   ],
   "source": [
    "red_wine.type.unique()"
   ]
  },
  {
   "cell_type": "code",
   "execution_count": 5,
   "metadata": {},
   "outputs": [
    {
     "data": {
      "text/plain": [
       "0    302\n",
       "1    269\n",
       "Name: type, dtype: int64"
      ]
     },
     "execution_count": 5,
     "metadata": {},
     "output_type": "execute_result"
    }
   ],
   "source": [
    "red_wine.type.value_counts()"
   ]
  },
  {
   "cell_type": "code",
   "execution_count": 6,
   "metadata": {},
   "outputs": [
    {
     "name": "stdout",
     "output_type": "stream",
     "text": [
      "<class 'pandas.core.frame.DataFrame'>\n",
      "RangeIndex: 571 entries, 0 to 570\n",
      "Data columns (total 4 columns):\n",
      " #   Column       Non-Null Count  Dtype  \n",
      "---  ------       --------------  -----  \n",
      " 0   citric acid  571 non-null    float64\n",
      " 1   sulphates    571 non-null    float64\n",
      " 2   alcohol      571 non-null    float64\n",
      " 3   type         571 non-null    int32  \n",
      "dtypes: float64(3), int32(1)\n",
      "memory usage: 15.7 KB\n"
     ]
    }
   ],
   "source": [
    "red_wine.info()"
   ]
  },
  {
   "cell_type": "code",
   "execution_count": 7,
   "metadata": {},
   "outputs": [],
   "source": [
    "X=red_wine[['citric acid','sulphates','alcohol']]\n",
    "y=red_wine['type']"
   ]
  },
  {
   "cell_type": "code",
   "execution_count": null,
   "metadata": {},
   "outputs": [],
   "source": []
  },
  {
   "cell_type": "code",
   "execution_count": 50,
   "metadata": {},
   "outputs": [],
   "source": [
    "#Class for checking all the models  \n",
    "\n",
    "X_train, X_test, y_train, y_test = train_test_split(X, y, test_size=0.3, random_state=0)\n",
    "   \n",
    "class Classification:\n",
    "    def logistic_regression(self,X,y):\n",
    "        X.self=X\n",
    "        y.self=y\n",
    "        logreg = LogisticRegression()\n",
    "        logreg.fit(X_train, y_train)\n",
    "        y_pred = logreg.predict(X_test)\n",
    "        auc_log = metrics.roc_auc_score(y_test, y_pred)\n",
    "        acc_log = metrics.accuracy_score(y_test, y_pred)\n",
    "        model=logreg\n",
    "        cv = KFold(n_splits=10, random_state=1, shuffle=True)\n",
    "        scores = cross_val_score(model, X, y, scoring='accuracy', cv=cv, n_jobs=-1)\n",
    "        return (f\"Accuracy of the LR classifier is: {acc_log}\",'AUC for logistic regression: {:.2f}'.format(auc_log),'CV Scores: ',scores)        \n",
    "    def naive_bayes(self,X,y):\n",
    "        X.self=X\n",
    "        y.self=y\n",
    "        gnb = GaussianNB()\n",
    "        gnb.fit(X_train, y_train)  #import all first before u run\n",
    "        y_pred = gnb.predict(X_test)\n",
    "        auc_nb = metrics.roc_auc_score(y_test, y_pred)\n",
    "        acc_nb = metrics.accuracy_score(y_test, y_pred)\n",
    "        model=gnb\n",
    "        cv = KFold(n_splits=10, random_state=1, shuffle=True)\n",
    "        scores = cross_val_score(model, X, y, scoring='accuracy', cv=cv, n_jobs=-1)\n",
    "        return (f\"Accuracy of the NB classifier is: {acc_nb}\",'AUC for NB: {:.2f}'.format(auc_nb),'CV Scores: ',scores)        \n",
    "    def svm(self,X,y): # can give test size\n",
    "        X.self=X\n",
    "        y.self=y\n",
    "        clf = SVC(kernel='linear')\n",
    "        clf.fit(X_train,y_train)\n",
    "        y_pred = clf.predict(X_test)\n",
    "        auc_svm = metrics.roc_auc_score(y_test, y_pred)\n",
    "        acc_svm = metrics.accuracy_score(y_test, y_pred)\n",
    "        model=clf\n",
    "        cv = KFold(n_splits=10, random_state=1, shuffle=True)\n",
    "        scores = cross_val_score(model, X, y, scoring='accuracy', cv=cv, n_jobs=-1)\n",
    "        return (f\"Accuracy of the SVM classifier is: {acc_svm}\",'AUC for SVM: {:.2f}'.format(auc_svm),'CV Scores: ',scores)\n",
    "    def random_forest(self,X,y):\n",
    "        X.self=X\n",
    "        y.self=y\n",
    "        clf = RandomForestClassifier(n_estimators = 500, max_depth = 4, max_features = 3, bootstrap = True, random_state = 18).fit(X_train, y_train) \n",
    "        prediction = clf.predict(X_test)\n",
    "        auc_rf = metrics.roc_auc_score(y_test, prediction)\n",
    "        acc_rf = metrics.accuracy_score(y_test, prediction)\n",
    "        model=clf\n",
    "        cv = KFold(n_splits=10, random_state=1, shuffle=True)\n",
    "        scores = cross_val_score(model, X, y, scoring='accuracy', cv=cv, n_jobs=-1)\n",
    "        return (f\"Accuracy of the RF classifier is: {acc_rf}\",'AUC for SVM: {:.2f}'.format(auc_rf),'CV Scores: ',scores)\n",
    "    def decision_tree(self,X,y):\n",
    "        X.self=X\n",
    "        y.self=y\n",
    "        classifier = DecisionTreeClassifier()\n",
    "        classifier = classifier.fit(X_train,y_train)\n",
    "        y_pred=classifier.predict(X_test)\n",
    "        auc_dt = metrics.roc_auc_score(y_test, y_pred)\n",
    "        acc_dt = metrics.accuracy_score(y_test, y_pred)\n",
    "        model=classifier\n",
    "        cv = KFold(n_splits=10, random_state=1, shuffle=True)\n",
    "        scores = cross_val_score(model, X, y, scoring='accuracy', cv=cv, n_jobs=-1)\n",
    "        return (f\"Accuracy of the DT classifier is: {acc_dt}\",'AUC for DT: {:.2f}'.format(auc_dt),'CV Scores: ',scores)\n",
    "        "
   ]
  },
  {
   "cell_type": "code",
   "execution_count": 51,
   "metadata": {},
   "outputs": [
    {
     "name": "stdout",
     "output_type": "stream",
     "text": [
      "LOGISTIC REGRESSION\n",
      "('Accuracy of the LR classifier is: 0.7906976744186046', 'AUC for logistic regression: 0.79', 'CV Scores: ', array([0.77586207, 0.8245614 , 0.75438596, 0.84210526, 0.59649123,\n",
      "       0.8245614 , 0.78947368, 0.77192982, 0.89473684, 0.77192982]))\n",
      "*********************************\n",
      "NAIVE BAYES\n",
      "('Accuracy of the NB classifier is: 0.8313953488372093', 'AUC for NB: 0.83', 'CV Scores: ', array([0.84482759, 0.87719298, 0.78947368, 0.87719298, 0.68421053,\n",
      "       0.9122807 , 0.77192982, 0.80701754, 0.87719298, 0.80701754]))\n",
      "*********************************\n",
      "SUPPORT VECTOR MACHINE\n",
      "('Accuracy of the SVM classifier is: 0.7906976744186046', 'AUC for SVM: 0.79', 'CV Scores: ', array([0.77586207, 0.77192982, 0.77192982, 0.89473684, 0.61403509,\n",
      "       0.85964912, 0.75438596, 0.78947368, 0.89473684, 0.77192982]))\n",
      "*********************************\n",
      "RANDOM FOREST\n",
      "('Accuracy of the RF classifier is: 0.8488372093023255', 'AUC for SVM: 0.85', 'CV Scores: ', array([0.86206897, 0.85964912, 0.87719298, 0.84210526, 0.68421053,\n",
      "       0.84210526, 0.84210526, 0.8245614 , 0.87719298, 0.84210526]))\n",
      "*********************************\n",
      "DECISION TREE\n",
      "('Accuracy of the DT classifier is: 0.7732558139534884', 'AUC for DT: 0.77', 'CV Scores: ', array([0.79310345, 0.85964912, 0.78947368, 0.84210526, 0.77192982,\n",
      "       0.80701754, 0.87719298, 0.77192982, 0.87719298, 0.8245614 ]))\n",
      "*********************************\n"
     ]
    }
   ],
   "source": [
    "# checking the auc, and accuracy of all the models\n",
    "\n",
    "print(\"LOGISTIC REGRESSION\")\n",
    "log_reg=Classification()\n",
    "print(log_reg.logistic_regression(X,y))\n",
    "print(\"*********************************\")\n",
    "print(\"NAIVE BAYES\")\n",
    "naive_bayes=Classification()\n",
    "print(naive_bayes.naive_bayes(X,y))\n",
    "print(\"*********************************\")\n",
    "print(\"SUPPORT VECTOR MACHINE\")\n",
    "svm=Classification()\n",
    "print(svm.svm(X,y))\n",
    "print(\"*********************************\")\n",
    "print(\"RANDOM FOREST\")\n",
    "rf=Classification()\n",
    "print(rf.random_forest(X,y))\n",
    "print(\"*********************************\")\n",
    "print(\"DECISION TREE\")\n",
    "dt=Classification()\n",
    "print(dt.decision_tree(X,y))\n",
    "print(\"*********************************\")\n",
    "\n"
   ]
  },
  {
   "cell_type": "markdown",
   "metadata": {},
   "source": [
    "Random Forest"
   ]
  },
  {
   "cell_type": "raw",
   "metadata": {},
   "source": [
    "test_size=0.3,0.25,0.2\n",
    "\n",
    "LogisticRegression:\n",
    "acc=0.79,0.80,0.82,0.80\n",
    "auc=0.79\n",
    "\n",
    "NaiveBayes:\n",
    "acc=0.83,0.83,0.86,0.85\n",
    "auc=0.83\n",
    "\n",
    "SVM:\n",
    "acc=0.79,0.81,0.83,0.83\n",
    "auc=0.79\n",
    "\n",
    "DecisionTree:\n",
    "acc=0.77,0.80,0.81,0.79\n",
    "auc=0.77\n",
    "\n",
    "RandomForest:\n",
    "acc=0.85,0.85,0.86,0.86\n",
    "auc=0.85"
   ]
  },
  {
   "cell_type": "code",
   "execution_count": 176,
   "metadata": {},
   "outputs": [
    {
     "data": {
      "text/plain": [
       "(571, 4)"
      ]
     },
     "execution_count": 176,
     "metadata": {},
     "output_type": "execute_result"
    }
   ],
   "source": [
    "red_wine.shape"
   ]
  },
  {
   "cell_type": "code",
   "execution_count": 55,
   "metadata": {},
   "outputs": [
    {
     "name": "stdout",
     "output_type": "stream",
     "text": [
      "Accuracy of the RF classifier is: 0.8488372093023255 AUC for SVM: 0.85 CV Scores:  [0.86206897 0.85964912 0.87719298 0.84210526 0.68421053 0.84210526\n",
      " 0.84210526 0.8245614  0.87719298 0.84210526]\n"
     ]
    }
   ],
   "source": [
    "# ROC Curve for Random Forest Classifier:\n",
    "\n",
    "clf = RandomForestClassifier(n_estimators = 500, max_depth = 4, max_features = 3, bootstrap = True, random_state = 18).fit(X_train, y_train) \n",
    "prediction = clf.predict(X_test)\n",
    "auc_rf = metrics.roc_auc_score(y_test, prediction)\n",
    "acc_rf = metrics.accuracy_score(y_test, prediction)\n",
    "model=clf\n",
    "cv = KFold(n_splits=10, random_state=1, shuffle=True)\n",
    "scores = cross_val_score(model, X, y, scoring='accuracy', cv=cv, n_jobs=-1)\n",
    "print (f\"Accuracy of the Random Forest classifier is: {acc_rf}\",'AUC for Random Forest: {:.2f}'.format(auc_rf),'CV Scores: ',scores)\n",
    "    "
   ]
  },
  {
   "cell_type": "code",
   "execution_count": 54,
   "metadata": {},
   "outputs": [
    {
     "name": "stdout",
     "output_type": "stream",
     "text": [
      "('Accuracy of the RF classifier is: 0.8488372093023255', 'AUC for SVM: 0.85', 'CV Scores: ', array([0.86206897, 0.85964912, 0.87719298, 0.84210526, 0.68421053,\n",
      "       0.84210526, 0.84210526, 0.8245614 , 0.87719298, 0.84210526]))\n"
     ]
    }
   ],
   "source": [
    "rf=Classification()\n",
    "print(rf.random_forest(X,y))\n"
   ]
  },
  {
   "cell_type": "code",
   "execution_count": 58,
   "metadata": {},
   "outputs": [
    {
     "name": "stdout",
     "output_type": "stream",
     "text": [
      "ROC AUC=0.85\n"
     ]
    },
    {
     "data": {
      "image/png": "[encoded data removed]",
      "text/plain": [
       "<Figure size 432x288 with 1 Axes>"
      ]
     },
     "metadata": {
      "needs_background": "light"
     },
     "output_type": "display_data"
    }
   ],
   "source": [
    "# ROC Curve for RF \n",
    "\n",
    "\n",
    "from sklearn.metrics import accuracy_score, confusion_matrix, roc_auc_score, roc_curve\n",
    "import pandas as pd        \n",
    "import numpy as np         \n",
    "import matplotlib.pyplot as plt\n",
    "from sklearn.svm import SVC\n",
    "from sklearn.ensemble import RandomForestClassifier\n",
    "from sklearn.metrics import roc_curve,auc\n",
    "from sklearn.model_selection import train_test_split\n",
    "\n",
    "def plot_roc(y_test,probs):\n",
    "    fpr,tpr,threshold=roc_curve(y_test,probs)\n",
    "    roc_auc=auc(fpr,tpr)\n",
    "    print('ROC AUC=%0.2f'%roc_auc)\n",
    "    plt.plot(fpr,tpr,label='AUC=%0.2f'%roc_auc,color='darkorange')\n",
    "    plt.legend(loc='lower right')\n",
    "    plt.plot([0,1],[0,1],'b--')\n",
    "    plt.xlim([0,1])\n",
    "    plt.ylim([0,1.05])\n",
    "    plt.xlabel('False Positive Rate')\n",
    "    plt.ylabel('True Positive Rate')\n",
    "    plt.show()\n",
    "plot_roc(y_test,prediction)\n"
   ]
  },
  {
   "cell_type": "code",
   "execution_count": 59,
   "metadata": {},
   "outputs": [],
   "source": [
    "# best model is Random forest classifier - testing on white wine\n",
    "white_wine=pd.read_csv('white_wine.csv')"
   ]
  },
  {
   "cell_type": "code",
   "execution_count": 60,
   "metadata": {},
   "outputs": [
    {
     "data": {
      "text/plain": [
       "(78, 4)"
      ]
     },
     "execution_count": 60,
     "metadata": {},
     "output_type": "execute_result"
    }
   ],
   "source": [
    "white_wine.shape"
   ]
  },
  {
   "cell_type": "code",
   "execution_count": 61,
   "metadata": {},
   "outputs": [
    {
     "name": "stdout",
     "output_type": "stream",
     "text": [
      "<class 'pandas.core.frame.DataFrame'>\n",
      "RangeIndex: 78 entries, 0 to 77\n",
      "Data columns (total 4 columns):\n",
      " #   Column       Non-Null Count  Dtype  \n",
      "---  ------       --------------  -----  \n",
      " 0   citric acid  78 non-null     float64\n",
      " 1   sulphates    78 non-null     float64\n",
      " 2   alcohol      78 non-null     float64\n",
      " 3   type         78 non-null     object \n",
      "dtypes: float64(3), object(1)\n",
      "memory usage: 2.6+ KB\n"
     ]
    }
   ],
   "source": [
    "white_wine.info()"
   ]
  },
  {
   "cell_type": "code",
   "execution_count": 63,
   "metadata": {},
   "outputs": [
    {
     "data": {
      "text/html": [
       "<div>\n",
       "<style scoped>\n",
       "    .dataframe tbody tr th:only-of-type {\n",
       "        vertical-align: middle;\n",
       "    }\n",
       "\n",
       "    .dataframe tbody tr th {\n",
       "        vertical-align: top;\n",
       "    }\n",
       "\n",
       "    .dataframe thead th {\n",
       "        text-align: right;\n",
       "    }\n",
       "</style>\n",
       "<table border=\"1\" class=\"dataframe\">\n",
       "  <thead>\n",
       "    <tr style=\"text-align: right;\">\n",
       "      <th></th>\n",
       "      <th>citric acid</th>\n",
       "      <th>sulphates</th>\n",
       "      <th>alcohol</th>\n",
       "      <th>type</th>\n",
       "    </tr>\n",
       "  </thead>\n",
       "  <tbody>\n",
       "    <tr>\n",
       "      <th>0</th>\n",
       "      <td>0.24</td>\n",
       "      <td>0.52</td>\n",
       "      <td>9.4</td>\n",
       "      <td>low</td>\n",
       "    </tr>\n",
       "    <tr>\n",
       "      <th>1</th>\n",
       "      <td>0.49</td>\n",
       "      <td>0.56</td>\n",
       "      <td>9.4</td>\n",
       "      <td>low</td>\n",
       "    </tr>\n",
       "    <tr>\n",
       "      <th>2</th>\n",
       "      <td>0.66</td>\n",
       "      <td>0.73</td>\n",
       "      <td>10.0</td>\n",
       "      <td>low</td>\n",
       "    </tr>\n",
       "    <tr>\n",
       "      <th>3</th>\n",
       "      <td>0.32</td>\n",
       "      <td>0.77</td>\n",
       "      <td>10.0</td>\n",
       "      <td>low</td>\n",
       "    </tr>\n",
       "    <tr>\n",
       "      <th>4</th>\n",
       "      <td>0.38</td>\n",
       "      <td>0.82</td>\n",
       "      <td>10.0</td>\n",
       "      <td>low</td>\n",
       "    </tr>\n",
       "    <tr>\n",
       "      <th>5</th>\n",
       "      <td>0.00</td>\n",
       "      <td>0.37</td>\n",
       "      <td>10.1</td>\n",
       "      <td>low</td>\n",
       "    </tr>\n",
       "    <tr>\n",
       "      <th>6</th>\n",
       "      <td>0.42</td>\n",
       "      <td>0.32</td>\n",
       "      <td>12.8</td>\n",
       "      <td>high</td>\n",
       "    </tr>\n",
       "    <tr>\n",
       "      <th>7</th>\n",
       "      <td>0.26</td>\n",
       "      <td>0.34</td>\n",
       "      <td>12.8</td>\n",
       "      <td>high</td>\n",
       "    </tr>\n",
       "    <tr>\n",
       "      <th>8</th>\n",
       "      <td>0.48</td>\n",
       "      <td>0.39</td>\n",
       "      <td>12.8</td>\n",
       "      <td>high</td>\n",
       "    </tr>\n",
       "    <tr>\n",
       "      <th>9</th>\n",
       "      <td>0.43</td>\n",
       "      <td>0.59</td>\n",
       "      <td>12.8</td>\n",
       "      <td>high</td>\n",
       "    </tr>\n",
       "  </tbody>\n",
       "</table>\n",
       "</div>"
      ],
      "text/plain": [
       "   citric acid  sulphates  alcohol  type\n",
       "0         0.24       0.52      9.4   low\n",
       "1         0.49       0.56      9.4   low\n",
       "2         0.66       0.73     10.0   low\n",
       "3         0.32       0.77     10.0   low\n",
       "4         0.38       0.82     10.0   low\n",
       "5         0.00       0.37     10.1   low\n",
       "6         0.42       0.32     12.8  high\n",
       "7         0.26       0.34     12.8  high\n",
       "8         0.48       0.39     12.8  high\n",
       "9         0.43       0.59     12.8  high"
      ]
     },
     "execution_count": 63,
     "metadata": {},
     "output_type": "execute_result"
    }
   ],
   "source": [
    "white_wine.head(10)"
   ]
  },
  {
   "cell_type": "code",
   "execution_count": 64,
   "metadata": {},
   "outputs": [
    {
     "data": {
      "text/html": [
       "<div>\n",
       "<style scoped>\n",
       "    .dataframe tbody tr th:only-of-type {\n",
       "        vertical-align: middle;\n",
       "    }\n",
       "\n",
       "    .dataframe tbody tr th {\n",
       "        vertical-align: top;\n",
       "    }\n",
       "\n",
       "    .dataframe thead th {\n",
       "        text-align: right;\n",
       "    }\n",
       "</style>\n",
       "<table border=\"1\" class=\"dataframe\">\n",
       "  <thead>\n",
       "    <tr style=\"text-align: right;\">\n",
       "      <th></th>\n",
       "      <th>citric acid</th>\n",
       "      <th>sulphates</th>\n",
       "      <th>alcohol</th>\n",
       "      <th>type</th>\n",
       "    </tr>\n",
       "  </thead>\n",
       "  <tbody>\n",
       "    <tr>\n",
       "      <th>0</th>\n",
       "      <td>0.24</td>\n",
       "      <td>0.52</td>\n",
       "      <td>9.4</td>\n",
       "      <td>1</td>\n",
       "    </tr>\n",
       "    <tr>\n",
       "      <th>1</th>\n",
       "      <td>0.49</td>\n",
       "      <td>0.56</td>\n",
       "      <td>9.4</td>\n",
       "      <td>1</td>\n",
       "    </tr>\n",
       "    <tr>\n",
       "      <th>2</th>\n",
       "      <td>0.66</td>\n",
       "      <td>0.73</td>\n",
       "      <td>10.0</td>\n",
       "      <td>1</td>\n",
       "    </tr>\n",
       "    <tr>\n",
       "      <th>3</th>\n",
       "      <td>0.32</td>\n",
       "      <td>0.77</td>\n",
       "      <td>10.0</td>\n",
       "      <td>1</td>\n",
       "    </tr>\n",
       "    <tr>\n",
       "      <th>4</th>\n",
       "      <td>0.38</td>\n",
       "      <td>0.82</td>\n",
       "      <td>10.0</td>\n",
       "      <td>1</td>\n",
       "    </tr>\n",
       "    <tr>\n",
       "      <th>5</th>\n",
       "      <td>0.00</td>\n",
       "      <td>0.37</td>\n",
       "      <td>10.1</td>\n",
       "      <td>1</td>\n",
       "    </tr>\n",
       "    <tr>\n",
       "      <th>6</th>\n",
       "      <td>0.42</td>\n",
       "      <td>0.32</td>\n",
       "      <td>12.8</td>\n",
       "      <td>0</td>\n",
       "    </tr>\n",
       "    <tr>\n",
       "      <th>7</th>\n",
       "      <td>0.26</td>\n",
       "      <td>0.34</td>\n",
       "      <td>12.8</td>\n",
       "      <td>0</td>\n",
       "    </tr>\n",
       "    <tr>\n",
       "      <th>8</th>\n",
       "      <td>0.48</td>\n",
       "      <td>0.39</td>\n",
       "      <td>12.8</td>\n",
       "      <td>0</td>\n",
       "    </tr>\n",
       "    <tr>\n",
       "      <th>9</th>\n",
       "      <td>0.43</td>\n",
       "      <td>0.59</td>\n",
       "      <td>12.8</td>\n",
       "      <td>0</td>\n",
       "    </tr>\n",
       "  </tbody>\n",
       "</table>\n",
       "</div>"
      ],
      "text/plain": [
       "   citric acid  sulphates  alcohol  type\n",
       "0         0.24       0.52      9.4     1\n",
       "1         0.49       0.56      9.4     1\n",
       "2         0.66       0.73     10.0     1\n",
       "3         0.32       0.77     10.0     1\n",
       "4         0.38       0.82     10.0     1\n",
       "5         0.00       0.37     10.1     1\n",
       "6         0.42       0.32     12.8     0\n",
       "7         0.26       0.34     12.8     0\n",
       "8         0.48       0.39     12.8     0\n",
       "9         0.43       0.59     12.8     0"
      ]
     },
     "execution_count": 64,
     "metadata": {},
     "output_type": "execute_result"
    }
   ],
   "source": [
    "# one hot encoding for white wine\n",
    "\n",
    "label_encoder = preprocessing.LabelEncoder()\n",
    " \n",
    "white_wine['type']= label_encoder.fit_transform(white_wine['type']) \n",
    "\n",
    "white_wine.head(10)\n",
    "#low=1\n",
    "#high=0"
   ]
  },
  {
   "cell_type": "code",
   "execution_count": 65,
   "metadata": {},
   "outputs": [
    {
     "data": {
      "text/plain": [
       "0    61\n",
       "1    17\n",
       "Name: type, dtype: int64"
      ]
     },
     "execution_count": 65,
     "metadata": {},
     "output_type": "execute_result"
    }
   ],
   "source": [
    "white_wine.type.value_counts()  "
   ]
  },
  {
   "cell_type": "code",
   "execution_count": 66,
   "metadata": {},
   "outputs": [],
   "source": [
    "X=white_wine[['citric acid','sulphates','alcohol']]\n",
    "y=white_wine['type']"
   ]
  },
  {
   "cell_type": "code",
   "execution_count": 67,
   "metadata": {},
   "outputs": [],
   "source": [
    "# train test 70-30 \n",
    "X_train, X_test, y_train, y_test = train_test_split(X, y, test_size=0.3, random_state=0)"
   ]
  },
  {
   "cell_type": "code",
   "execution_count": 73,
   "metadata": {},
   "outputs": [
    {
     "name": "stdout",
     "output_type": "stream",
     "text": [
      "Accuracy of the RF classifier is: 0.92 \n",
      "*******************************************\n",
      "AUC for RF: 0.89\n",
      "*******************************************\n",
      "CV Scores: \n",
      " [0.875      0.875      1.         1.         1.         0.875\n",
      " 0.75       0.875      0.85714286 1.        ]\n"
     ]
    }
   ],
   "source": [
    "clf = RandomForestClassifier(n_estimators = 500, max_depth = 4, max_features = 3, bootstrap = True, random_state = 18).fit(X_train, y_train) \n",
    "prediction = clf.predict(X_test)\n",
    "auc_rf = metrics.roc_auc_score(y_test, prediction)\n",
    "acc_rf = metrics.accuracy_score(y_test, prediction)\n",
    "model=clf\n",
    "cv = KFold(n_splits=10, random_state=1, shuffle=True)\n",
    "scores = cross_val_score(model, X, y, scoring='accuracy', cv=cv, n_jobs=-1)\n",
    "print(\"Accuracy of the RF classifier is: {:.2f} \".format(acc_rf))\n",
    "print('*******************************************')\n",
    "print('AUC for Random Forest: {:.2f}'.format(auc_rf))\n",
    "print('*******************************************')\n",
    "print('CV Scores: \\n',scores)\n",
    "    "
   ]
  },
  {
   "cell_type": "code",
   "execution_count": null,
   "metadata": {},
   "outputs": [],
   "source": []
  },
  {
   "cell_type": "code",
   "execution_count": null,
   "metadata": {},
   "outputs": [],
   "source": []
  }
 ],
 "metadata": {
  "kernelspec": {
   "display_name": "Python 3",
   "language": "python",
   "name": "python3"
  },
  "language_info": {
   "codemirror_mode": {
    "name": "ipython",
    "version": 3
   },
   "file_extension": ".py",
   "mimetype": "text/x-python",
   "name": "python",
   "nbconvert_exporter": "python",
   "pygments_lexer": "ipython3",
   "version": "3.8.5"
  }
 },
 "nbformat": 4,
 "nbformat_minor": 4
}
